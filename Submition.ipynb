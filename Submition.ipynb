{
  "nbformat": 4,
  "nbformat_minor": 0,
  "metadata": {
    "colab": {
      "name": "Untitled0.ipynb",
      "provenance": [],
      "collapsed_sections": []
    },
    "kernelspec": {
      "name": "python3",
      "display_name": "Python 3"
    }
  },
  "cells": [
    {
      "cell_type": "markdown",
      "metadata": {
        "id": "IGFSU6xb56yH",
        "colab_type": "text"
      },
      "source": [
        "This is my submission for the hackathon face recognition project. <br>\n",
        "Name - Vaibhav malhotra <br>\n",
        "Email - vaibhavmalhotra99@gmail.com<br>\n",
        "LinkedIn -  [https://linkedin.com/in/vaibhavm99/]<br>\n",
        "\n",
        "\n",
        "\n",
        "---\n",
        "\n",
        "#Steps in Facial Recognition\n",
        "\n",
        "\n",
        "1.   First, look at a picture and find all the faces in it\n",
        "2.   Second, focus on each face and be able to understand that even if a face is turned in a weird direction or in bad lighting, it is still the same person.\n",
        "3. Third, be able to pick out unique features of the face that you can use to tell it apart from other people— like how big the eyes are, how long the face is, etc.\n",
        "4. \n",
        "Finally, compare the unique features of that face to all the people you already know to determine the person’s name.\n",
        "\n",
        "The algorithm first perform face landmark recognition and then makes every image front facing by image augmentation. <br>\n",
        "Then, it finds out all the important features like lips, eyes, nose, etc.<br>\n",
        "Now, it encodes the image, ie, sends it sends it through a CNN and generates 128 unique feaures that are different for each image.\n",
        "Now using any comparison algorithm (in this case we use SVM), we can compare two images.<br>\n",
        "Fortunately, we don't have to start from scratch as this algorithm is already developed by Adam Geitgey and he has made a library face_recognition which I will use for this assignment.\n",
        "\n",
        "Refrences (Article by the creates of this algorithm) - https://medium.com/@ageitgey/machine-learning-is-fun-part-4-modern-face-recognition-with-deep-learning-c3cffc121d78\n",
        "# Installing the Required libraries\n",
        "We would need to install two libraries\n",
        "1. Opencv = `pip install opencv-python`\n",
        "2. Face Recognition = `pip install face_recognition`\n",
        "\n",
        "\n",
        "\n",
        "---\n",
        "\n",
        "# Importing the libraries\n",
        "\n",
        "\n",
        "\n"
      ]
    },
    {
      "cell_type": "code",
      "metadata": {
        "id": "O8E1OmosK16K",
        "colab_type": "code",
        "colab": {}
      },
      "source": [
        "import cv2\n",
        "import face_recognition as fr\n",
        "import sys\n"
      ],
      "execution_count": null,
      "outputs": []
    },
    {
      "cell_type": "markdown",
      "metadata": {
        "id": "iHHWSVOXK5H6",
        "colab_type": "text"
      },
      "source": [
        "# Accepting the images\n",
        "The images will be accepted through command line arguments. <br>\n",
        "Just have to enter the path to images in command line.<br>\n",
        "\n",
        "\n",
        "```\n",
        "python face_recognition.py \"<Path to passport image>\" \"<Path to selfie>\"\n",
        "```\n",
        "\n"
      ]
    },
    {
      "cell_type": "code",
      "metadata": {
        "id": "Lnh6BjupLU7O",
        "colab_type": "code",
        "colab": {}
      },
      "source": [
        "passport = sys.argv[1]\n",
        "selfie = sys.argv[2]\n"
      ],
      "execution_count": null,
      "outputs": []
    },
    {
      "cell_type": "markdown",
      "metadata": {
        "id": "k8rMj_gSLet_",
        "colab_type": "text"
      },
      "source": [
        "# Loading the Images and converting them from BGR to RGB"
      ]
    },
    {
      "cell_type": "code",
      "metadata": {
        "id": "ctQP19JqLnEd",
        "colab_type": "code",
        "colab": {}
      },
      "source": [
        "try:\n",
        "    img_passport = fr.load_image_file(passport)\n",
        "    img_selfie = fr.load_image_file(selfie)\n",
        "    img_passport = cv2.cvtColor(img_passport, cv2.COLOR_BGR2RGB)\n",
        "    img_selfie = cv2.cvtColor(img_selfie, cv2.COLOR_BGR2RGB)\n",
        "except:\n",
        "    print(\"Wrong Path to the image\")\n",
        "    exit()"
      ],
      "execution_count": null,
      "outputs": []
    },
    {
      "cell_type": "markdown",
      "metadata": {
        "id": "9IZXqjh6LoKe",
        "colab_type": "text"
      },
      "source": [
        "# Finding the faces and encoding both of the images"
      ]
    },
    {
      "cell_type": "code",
      "metadata": {
        "id": "Ex3qa8DSLx56",
        "colab_type": "code",
        "colab": {}
      },
      "source": [
        "selfie_face_locs = fr.face_locations(img_selfie)\n",
        "passport_face_loc = fr.face_locations(img_passport)[0]\n",
        "encodes_selfie = fr.face_encodings(img_selfie)\n",
        "encode_passport = fr.face_encodings(img_passport)[0]"
      ],
      "execution_count": null,
      "outputs": []
    },
    {
      "cell_type": "markdown",
      "metadata": {
        "id": "9mutMgmbL3ry",
        "colab_type": "text"
      },
      "source": [
        "# Finding the comparison result and accuracy"
      ]
    },
    {
      "cell_type": "code",
      "metadata": {
        "id": "kyWoiBcKL_2D",
        "colab_type": "code",
        "colab": {}
      },
      "source": [
        "lst = []\n",
        "\n",
        "for encode in encodes_selfie:\n",
        "    comparison = fr.compare_faces([encode_passport], encode)\n",
        "    accuracy = fr.face_distance(encode_passport,encodes_selfie)\n",
        "    accuracy = 1 - accuracy\n",
        "    lst.append((comparison, accuracy))"
      ],
      "execution_count": null,
      "outputs": []
    },
    {
      "cell_type": "markdown",
      "metadata": {
        "id": "rZ9ORf8aMCB3",
        "colab_type": "text"
      },
      "source": [
        "# Printing the result as required"
      ]
    },
    {
      "cell_type": "code",
      "metadata": {
        "id": "1u1urG4CMHPi",
        "colab_type": "code",
        "colab": {}
      },
      "source": [
        "flag = 0\n",
        "for result, score in lst:\n",
        "    if result[0] == True:\n",
        "        print(\"IMAGE MATCHED\")\n",
        "        print(f\"Confidence = {round(score[0], 4) * 100} %\")\n",
        "        flag = 1\n",
        "if flag == 0:    \n",
        "    print(\"NO MATCH FOUND\")"
      ],
      "execution_count": null,
      "outputs": []
    }
  ]
}